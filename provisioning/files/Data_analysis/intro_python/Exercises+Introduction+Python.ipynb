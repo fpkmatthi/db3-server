{
 "cells": [
  {
   "cell_type": "markdown",
   "metadata": {
    "collapsed": true
   },
   "source": [
    "# Exercises on Python"
   ]
  },
  {
   "cell_type": "code",
   "execution_count": 4,
   "metadata": {
    "collapsed": true
   },
   "outputs": [],
   "source": [
    "fruits = ['orange', 'apple', 'pear', 'banana', 'kiwi', 'apple', 'banana']\n",
    "\n",
    "# Give the number of apples in fruits\n",
    "\n",
    "# Give the index of banana\n",
    "\n",
    "# Reverse the array fruits + print the reversed array\n",
    "\n",
    "\n",
    "# Append grape to the array fruits + print the new array\n",
    "\n",
    "\n",
    "# Sort the array fruits + print the sorted array\n",
    "\n",
    "\n",
    "# Remove the last element from the array fruits + print the new array\n",
    "\n"
   ]
  },
  {
   "cell_type": "code",
   "execution_count": 5,
   "metadata": {
    "collapsed": true
   },
   "outputs": [],
   "source": [
    "vec = [-4, -2, 0, 2, 4]\n",
    "# Create a new list vec2 with the values doubled + print\n",
    "\n",
    "# Create a new list vecNoNegative to exclude negative numbers + print\n",
    "\n",
    "# Create a new list vecAbs with the absolute value of all the elements + print\n",
    "\n",
    "# Create a new array fruitStrip where each fruit was stripped from the spaces + print\n",
    "fruit = ['  banana', '  loganberry ', 'passion fruit  ']\n"
   ]
  },
  {
   "cell_type": "code",
   "execution_count": 6,
   "metadata": {
    "collapsed": true
   },
   "outputs": [],
   "source": [
    "tel = {'jack': 4098, 'sape': 4139}\n",
    "# Add the number of guido: 4127\n",
    "\n",
    "# Print the dictionary\n",
    "\n",
    "# Print the number of jack\n",
    "\n",
    "# Remove the number of sape\n",
    "\n",
    "# Print the dictionary\n",
    "\n",
    "# Add the number of irv: 4128\n",
    "\n",
    "# Print the dictionary\n",
    "\n",
    "# Check if guido is in the dictionary\n",
    "\n",
    "# Use a for loop to get the following output\n",
    "# jack --> 4098\n",
    "# guido --> 4127\n",
    "# irv --> 4127\n"
   ]
  },
  {
   "cell_type": "code",
   "execution_count": 7,
   "metadata": {
    "collapsed": true
   },
   "outputs": [],
   "source": [
    "words = ['cat', 'window', 'defenestrate']\n",
    "# Use a for loop to print out the words and the length of each word\n",
    "\n",
    "\n",
    "# cat 3\n",
    "# window 6\n",
    "# defenestrate 12"
   ]
  },
  {
   "cell_type": "code",
   "execution_count": 9,
   "metadata": {
    "collapsed": true
   },
   "outputs": [],
   "source": [
    "my_list = ['p','r','o','b','l','e', 'm']\n",
    "\n",
    "# Output: e. Use negative indexes\n",
    "\n",
    "\n",
    "# Output: p. Use negative indexes\n",
    "\n",
    "\n",
    "# Output 3rd to 5th. Use slicing\n",
    "\n",
    "\n",
    "# Output beginning to 4th.\n",
    "\n",
    "\n",
    "# Output 5th to end.\n",
    "\n",
    "\n",
    "# Output from beginning to end\n",
    "\n",
    "\n",
    "# Delete the second character\n",
    "\n",
    "\n",
    "# Delete the third to fifth character\n"
   ]
  },
  {
   "cell_type": "code",
   "execution_count": 13,
   "metadata": {
    "collapsed": true
   },
   "outputs": [],
   "source": [
    "# Mistake values\n",
    "odd = [2, 4, 6, 8]\n",
    "\n",
    "# Change the 1st item to 1  + print\n",
    "          \n",
    "\n",
    "# Change 2nd to 4th items to 3, 5, 7 + print\n",
    "  \n",
    "\n",
    "# Append 9 + print\n",
    "\n"
   ]
  },
  {
   "cell_type": "code",
   "execution_count": 14,
   "metadata": {
    "collapsed": true
   },
   "outputs": [],
   "source": [
    "# Create a list pow2: 64, 128, 256, 512, 1024\n"
   ]
  },
  {
   "cell_type": "code",
   "execution_count": 36,
   "metadata": {
    "collapsed": true
   },
   "outputs": [],
   "source": [
    "# Scrabble score\n",
    "# Choose a word\n",
    "word = \"python\"\n",
    "# Convert the word to uppercase and initialize the score variable to 0\n",
    "word = word.upper();\n",
    "score = 0;\n",
    "\n",
    "# A dictionary of letters along with their corresponding point values\n",
    "points = {\"A\": 1, \"B\": 3, \"C\": 3, \"D\": 2, \"E\": 1, \"F\": 4, \"G\": 2, \"H\": 4, \"I\": 1, \"J\": 2, \"K\": 5, \"L\": 1, \"M\": 3, \"N\": 1, \"O\": 1, \"P\": 3, \"Q\": 10, \"R\": 1, \"S\": 1, \"T\": 1, \"U\": 1, \"V\": 4, \"W\": 4, \"X\": 8, \"Y\": 4, \"Z\": 10}\n",
    "\n",
    "# Iterate over each character of the entered word, get the number of points it is worth and add to the score variable\n",
    "\n",
    "    \n",
    "# Print the accumulated score\n"
   ]
  },
  {
   "cell_type": "code",
   "execution_count": 37,
   "metadata": {
    "collapsed": true
   },
   "outputs": [],
   "source": [
    "city_population = {\"Antwerpen\":525935, \"Gent\":262219, \"Brugge\":118325, \"Mechelen\":86616, \"Aalst\":86445, \"Kortrijk\":76735, \"Oostende\":71494, \"Genk\":66227}\n",
    "# Print the city population of Aalst\n",
    "\n",
    "# Add the city population of Waregem = 38226\n",
    "\n",
    "# Calculate the average population + print the average population\n"
   ]
  },
  {
   "cell_type": "code",
   "execution_count": 38,
   "metadata": {
    "collapsed": true
   },
   "outputs": [],
   "source": [
    "en_de = {\"red\" : \"rot\", \"green\" : \"grün\", \"blue\" : \"blau\", \"yellow\":\"gelb\"}\n",
    "de_fr = {\"rot\" : \"rouge\", \"grün\" : \"vert\", \"blau\" : \"bleu\", \"gelb\":\"jaune\"}\n",
    "\n",
    "# Create the dictionary en_fr + print the dictionary\n",
    "\n",
    "\n",
    "# Translate the word green to french\n"
   ]
  },
  {
   "cell_type": "code",
   "execution_count": 39,
   "metadata": {
    "collapsed": true
   },
   "outputs": [],
   "source": [
    "morse = {\n",
    "\"A\" : \".-\", \n",
    "\"B\" : \"-...\", \n",
    "\"C\" : \"-.-.\", \n",
    "\"D\" : \"-..\", \n",
    "\"E\" : \".\", \n",
    "\"F\" : \"..-.\", \n",
    "\"G\" : \"--.\", \n",
    "\"H\" : \"....\", \n",
    "\"I\" : \"..\", \n",
    "\"J\" : \".---\", \n",
    "\"K\" : \"-.-\", \n",
    "\"L\" : \".-..\", \n",
    "\"M\" : \"--\", \n",
    "\"N\" : \"-.\", \n",
    "\"O\" : \"---\", \n",
    "\"P\" : \".--.\", \n",
    "\"Q\" : \"--.-\", \n",
    "\"R\" : \".-.\", \n",
    "\"S\" : \"...\", \n",
    "\"T\" : \"-\", \n",
    "\"U\" : \"..-\", \n",
    "\"V\" : \"...-\", \n",
    "\"W\" : \".--\", \n",
    "\"X\" : \"-..-\", \n",
    "\"Y\" : \"-.--\", \n",
    "\"Z\" : \"--..\", \n",
    "\"0\" : \"-----\", \n",
    "\"1\" : \".----\", \n",
    "\"2\" : \"..---\", \n",
    "\"3\" : \"...--\", \n",
    "\"4\" : \"....-\", \n",
    "\"5\" : \".....\", \n",
    "\"6\" : \"-....\", \n",
    "\"7\" : \"--...\", \n",
    "\"8\" : \"---..\", \n",
    "\"9\" : \"----.\", \n",
    "\".\" : \".-.-.-\", \n",
    "\",\" : \"--..--\"\n",
    "}\n",
    "\n",
    "# Convert the input text to morse code\n",
    "# Characters that are not in the dictionary remain the same"
   ]
  },
  {
   "cell_type": "code",
   "execution_count": 40,
   "metadata": {
    "collapsed": true
   },
   "outputs": [],
   "source": [
    "# Write a class Person. A person has a name and an age.\n",
    "# A person can sayHi (\"Hello, my name is ...\")\n",
    "# Create a person John who is 36 years old\n",
    "\n"
   ]
  },
  {
   "cell_type": "code",
   "execution_count": null,
   "metadata": {
    "collapsed": true
   },
   "outputs": [],
   "source": []
  }
 ],
 "metadata": {
  "kernelspec": {
   "display_name": "Python 3",
   "language": "python",
   "name": "python3"
  },
  "language_info": {
   "codemirror_mode": {
    "name": "ipython",
    "version": 3
   },
   "file_extension": ".py",
   "mimetype": "text/x-python",
   "name": "python",
   "nbconvert_exporter": "python",
   "pygments_lexer": "ipython3",
   "version": "3.6.1"
  }
 },
 "nbformat": 4,
 "nbformat_minor": 2
}
