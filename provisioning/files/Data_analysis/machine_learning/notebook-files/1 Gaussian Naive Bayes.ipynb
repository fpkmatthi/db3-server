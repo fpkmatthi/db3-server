{
 "cells": [
  {
   "cell_type": "code",
   "execution_count": 1,
   "metadata": {},
   "outputs": [],
   "source": [
    "import pandas as pd\n",
    "import numpy as np\n",
    "# numpy is a Python library that offers lots of data manipulation functions"
   ]
  },
  {
   "cell_type": "code",
   "execution_count": 2,
   "metadata": {
    "scrolled": true
   },
   "outputs": [
    {
     "data": {
      "text/html": [
       "<div>\n",
       "<style scoped>\n",
       "    .dataframe tbody tr th:only-of-type {\n",
       "        vertical-align: middle;\n",
       "    }\n",
       "\n",
       "    .dataframe tbody tr th {\n",
       "        vertical-align: top;\n",
       "    }\n",
       "\n",
       "    .dataframe thead th {\n",
       "        text-align: right;\n",
       "    }\n",
       "</style>\n",
       "<table border=\"1\" class=\"dataframe\">\n",
       "  <thead>\n",
       "    <tr style=\"text-align: right;\">\n",
       "      <th></th>\n",
       "      <th>gender</th>\n",
       "      <th>height</th>\n",
       "      <th>weight</th>\n",
       "      <th>footsize</th>\n",
       "    </tr>\n",
       "  </thead>\n",
       "  <tbody>\n",
       "    <tr>\n",
       "      <th>0</th>\n",
       "      <td>male</td>\n",
       "      <td>183.0</td>\n",
       "      <td>81.5</td>\n",
       "      <td>46</td>\n",
       "    </tr>\n",
       "    <tr>\n",
       "      <th>1</th>\n",
       "      <td>male</td>\n",
       "      <td>180.0</td>\n",
       "      <td>86.0</td>\n",
       "      <td>45</td>\n",
       "    </tr>\n",
       "    <tr>\n",
       "      <th>2</th>\n",
       "      <td>male</td>\n",
       "      <td>170.0</td>\n",
       "      <td>77.0</td>\n",
       "      <td>46</td>\n",
       "    </tr>\n",
       "    <tr>\n",
       "      <th>3</th>\n",
       "      <td>male</td>\n",
       "      <td>180.0</td>\n",
       "      <td>75.0</td>\n",
       "      <td>44</td>\n",
       "    </tr>\n",
       "    <tr>\n",
       "      <th>4</th>\n",
       "      <td>female</td>\n",
       "      <td>152.5</td>\n",
       "      <td>45.0</td>\n",
       "      <td>38</td>\n",
       "    </tr>\n",
       "    <tr>\n",
       "      <th>5</th>\n",
       "      <td>female</td>\n",
       "      <td>167.5</td>\n",
       "      <td>68.0</td>\n",
       "      <td>40</td>\n",
       "    </tr>\n",
       "    <tr>\n",
       "      <th>6</th>\n",
       "      <td>female</td>\n",
       "      <td>165.0</td>\n",
       "      <td>59.0</td>\n",
       "      <td>39</td>\n",
       "    </tr>\n",
       "    <tr>\n",
       "      <th>7</th>\n",
       "      <td>female</td>\n",
       "      <td>175.0</td>\n",
       "      <td>68.0</td>\n",
       "      <td>42</td>\n",
       "    </tr>\n",
       "  </tbody>\n",
       "</table>\n",
       "</div>"
      ],
      "text/plain": [
       "   gender  height  weight  footsize\n",
       "0    male   183.0    81.5        46\n",
       "1    male   180.0    86.0        45\n",
       "2    male   170.0    77.0        46\n",
       "3    male   180.0    75.0        44\n",
       "4  female   152.5    45.0        38\n",
       "5  female   167.5    68.0        40\n",
       "6  female   165.0    59.0        39\n",
       "7  female   175.0    68.0        42"
      ]
     },
     "execution_count": 2,
     "metadata": {},
     "output_type": "execute_result"
    }
   ],
   "source": [
    "# Load the dataset persons.txt and check if the dataset is loaded correctly\n",
    "# The seperator is ;\n",
    "persons = pd.read_csv('./persons.txt', sep = \";\")\n",
    "persons.head(10)"
   ]
  },
  {
   "cell_type": "code",
   "execution_count": 3,
   "metadata": {},
   "outputs": [
    {
     "data": {
      "text/html": [
       "<div>\n",
       "<style scoped>\n",
       "    .dataframe tbody tr th:only-of-type {\n",
       "        vertical-align: middle;\n",
       "    }\n",
       "\n",
       "    .dataframe tbody tr th {\n",
       "        vertical-align: top;\n",
       "    }\n",
       "\n",
       "    .dataframe thead th {\n",
       "        text-align: right;\n",
       "    }\n",
       "</style>\n",
       "<table border=\"1\" class=\"dataframe\">\n",
       "  <thead>\n",
       "    <tr style=\"text-align: right;\">\n",
       "      <th></th>\n",
       "      <th>gender</th>\n",
       "      <th>height</th>\n",
       "      <th>weight</th>\n",
       "      <th>footsize</th>\n",
       "    </tr>\n",
       "  </thead>\n",
       "  <tbody>\n",
       "    <tr>\n",
       "      <th>0</th>\n",
       "      <td>0</td>\n",
       "      <td>183.0</td>\n",
       "      <td>81.5</td>\n",
       "      <td>46</td>\n",
       "    </tr>\n",
       "    <tr>\n",
       "      <th>1</th>\n",
       "      <td>0</td>\n",
       "      <td>180.0</td>\n",
       "      <td>86.0</td>\n",
       "      <td>45</td>\n",
       "    </tr>\n",
       "    <tr>\n",
       "      <th>2</th>\n",
       "      <td>0</td>\n",
       "      <td>170.0</td>\n",
       "      <td>77.0</td>\n",
       "      <td>46</td>\n",
       "    </tr>\n",
       "    <tr>\n",
       "      <th>3</th>\n",
       "      <td>0</td>\n",
       "      <td>180.0</td>\n",
       "      <td>75.0</td>\n",
       "      <td>44</td>\n",
       "    </tr>\n",
       "    <tr>\n",
       "      <th>4</th>\n",
       "      <td>1</td>\n",
       "      <td>152.5</td>\n",
       "      <td>45.0</td>\n",
       "      <td>38</td>\n",
       "    </tr>\n",
       "    <tr>\n",
       "      <th>5</th>\n",
       "      <td>1</td>\n",
       "      <td>167.5</td>\n",
       "      <td>68.0</td>\n",
       "      <td>40</td>\n",
       "    </tr>\n",
       "    <tr>\n",
       "      <th>6</th>\n",
       "      <td>1</td>\n",
       "      <td>165.0</td>\n",
       "      <td>59.0</td>\n",
       "      <td>39</td>\n",
       "    </tr>\n",
       "    <tr>\n",
       "      <th>7</th>\n",
       "      <td>1</td>\n",
       "      <td>175.0</td>\n",
       "      <td>68.0</td>\n",
       "      <td>42</td>\n",
       "    </tr>\n",
       "  </tbody>\n",
       "</table>\n",
       "</div>"
      ],
      "text/plain": [
       "   gender  height  weight  footsize\n",
       "0       0   183.0    81.5        46\n",
       "1       0   180.0    86.0        45\n",
       "2       0   170.0    77.0        46\n",
       "3       0   180.0    75.0        44\n",
       "4       1   152.5    45.0        38\n",
       "5       1   167.5    68.0        40\n",
       "6       1   165.0    59.0        39\n",
       "7       1   175.0    68.0        42"
      ]
     },
     "execution_count": 3,
     "metadata": {},
     "output_type": "execute_result"
    }
   ],
   "source": [
    "# Convert male to 0 and female to 1\n",
    "# Check the dataset afterwards\n",
    "persons['gender'] = np.where(persons['gender']=='male', 0, 1)\n",
    "persons.head(10)"
   ]
  },
  {
   "cell_type": "markdown",
   "metadata": {},
   "source": [
    "Before we can compute for the probability distribution for features $x$, \n",
    "we must first compute for the mean $μ$ and variance $\\sigma^{2}$ values of $x_{i}$ for each $k$ class."
   ]
  },
  {
   "cell_type": "code",
   "execution_count": 14,
   "metadata": {},
   "outputs": [],
   "source": [
    "mean_male = persons[persons['gender'] == 0][['height', 'weight', 'footsize']].mean()\n",
    "mean_female = persons[persons['gender'] == 1][['height', 'weight', 'footsize']].mean()\n",
    "var_male = persons[persons['gender'] == 0][['height', 'weight', 'footsize']].var()\n",
    "var_female = persons[persons['gender'] == 1][['height', 'weight', 'footsize']].var()"
   ]
  },
  {
   "cell_type": "code",
   "execution_count": 15,
   "metadata": {},
   "outputs": [
    {
     "name": "stdout",
     "output_type": "stream",
     "text": [
      "Mean values for male features: \n",
      "height      178.250\n",
      "weight       79.875\n",
      "footsize     45.250\n",
      "dtype: float64\n",
      "\n",
      "Mean values for female features: \n",
      "height      165.00\n",
      "weight       60.00\n",
      "footsize     39.75\n",
      "dtype: float64\n",
      "\n",
      "Variance values for male features: \n",
      "height      32.250000\n",
      "weight      24.062500\n",
      "footsize     0.916667\n",
      "dtype: float64\n",
      "\n",
      "Variance values for female features: \n",
      "height       87.500000\n",
      "weight      118.000000\n",
      "footsize      2.916667\n",
      "dtype: float64\n",
      "\n"
     ]
    }
   ],
   "source": [
    "# We take a look at the computed values.\n",
    "\n",
    "print('Mean values for male features: ')\n",
    "print(mean_male)\n",
    "print()\n",
    "print('Mean values for female features: ')\n",
    "print(mean_female)\n",
    "print()\n",
    "print('Variance values for male features: ')\n",
    "print(var_male)\n",
    "print()\n",
    "print('Variance values for female features: ')\n",
    "print(var_female)\n",
    "print()"
   ]
  },
  {
   "cell_type": "markdown",
   "metadata": {},
   "source": [
    "Now that we have the $μ$ and $\\sigma^{2}$ values for each features $x_{i}$ per $k$ -class, \n",
    "let us now write a function for the likelihood computation, i.e. $p(x_{i}|C_{k})$ . \n",
    "We are going to plugin the likelihood computation into the Gaussian probability density function:\n",
    "$$ p(x = x_{i} | C_{k}) = \\dfrac{1}{\\sqrt{2 \\pi \\sigma_{k}^{2}}} \\cdot exp\\bigg(\\dfrac{-(x_{i} - \\mu_{k})^2}{2 \\sigma_{k}^{2}}\\bigg) $$\n",
    "\n",
    "Hence, we implement the likelihood function as follows:"
   ]
  },
  {
   "cell_type": "code",
   "execution_count": 16,
   "metadata": {},
   "outputs": [],
   "source": [
    "def likelihood(feature, mean, variance):\n",
    "    return (1 / np.sqrt(2 * np.pi * variance)) * np.exp((-(feature - mean) ** 2) / (2 * variance))"
   ]
  },
  {
   "cell_type": "markdown",
   "metadata": {},
   "source": [
    "Now we want to calculate the chance that a person with height = 175 and weight = 59 and footsize = 40 is male or female\n",
    "So we have to calculate 2 things:\n",
    "- P(male | height = 175 , weight = 59, footsize = 40) \n",
    "    = P(height = 175 | male) * P(weight = 59 | male) * P(footsize = 40 | male) * P(male) / (P(height = 175) * P(weight = 59) * P(footsize = 40))\n",
    "- P(female | height = 175 , weight = 59, footsize = 40)\n",
    "    = P(height = 175 | female) * P(weight = 59 | female) * P(footsize = 40 | female) * P(female) / (P(height = 175) * P(weight = 59) * P(footsize = 40))\n",
    "\n",
    "Because P(male) = P(female) = 0.5 and (P(height = 175) * P (weight = 59) * P(footsize = 40)) is for both formulas the same, these values don't matter\n",
    "So we only need to calculate\n",
    "- P(height = 175 | male) * P(weight = 59 | male) * P(footsize = 40 | male)\n",
    "- P(height = 175 | female) * P(weight = 59 | female) * P(footsize = 40 | female)"
   ]
  },
  {
   "cell_type": "code",
   "execution_count": 17,
   "metadata": {},
   "outputs": [
    {
     "name": "stdout",
     "output_type": "stream",
     "text": [
      "[0.0596383  0.02408451]\n"
     ]
    }
   ],
   "source": [
    "p_height = likelihood(feature=175,\n",
    "                 mean=np.array([mean_male['height'], mean_female['height']]),\n",
    "                 variance=np.array([var_male['height'], var_female['height']]))\n",
    "print(p_height)"
   ]
  },
  {
   "cell_type": "code",
   "execution_count": 18,
   "metadata": {},
   "outputs": [
    {
     "name": "stdout",
     "output_type": "stream",
     "text": [
      "[9.50078654e-06 3.65703260e-02]\n"
     ]
    }
   ],
   "source": [
    "p_weight = likelihood(feature=59,\n",
    "                 mean=np.array([mean_male['weight'], mean_female['weight']]),\n",
    "                 variance=np.array([var_male['weight'], var_female['weight']]))\n",
    "print(p_weight)"
   ]
  },
  {
   "cell_type": "code",
   "execution_count": 19,
   "metadata": {},
   "outputs": [
    {
     "name": "stdout",
     "output_type": "stream",
     "text": [
      "[1.23191750e-07 2.31107219e-01]\n"
     ]
    }
   ],
   "source": [
    "p_footsize = likelihood(feature=40,\n",
    "                 mean=np.array([mean_male['footsize'], mean_female['footsize']]),\n",
    "                 variance=np.array([var_male['footsize'], var_female['footsize']]))\n",
    "print(p_footsize)"
   ]
  },
  {
   "cell_type": "code",
   "execution_count": 20,
   "metadata": {},
   "outputs": [
    {
     "name": "stdout",
     "output_type": "stream",
     "text": [
      "[6.98017742e-14 2.03554218e-04]\n"
     ]
    }
   ],
   "source": [
    "result = p_height * p_weight * p_footsize\n",
    "print(result)"
   ]
  },
  {
   "cell_type": "code",
   "execution_count": null,
   "metadata": {},
   "outputs": [],
   "source": []
  }
 ],
 "metadata": {
  "kernelspec": {
   "display_name": "Python 3",
   "language": "python",
   "name": "python3"
  },
  "language_info": {
   "codemirror_mode": {
    "name": "ipython",
    "version": 3
   },
   "file_extension": ".py",
   "mimetype": "text/x-python",
   "name": "python",
   "nbconvert_exporter": "python",
   "pygments_lexer": "ipython3",
   "version": "3.7.0"
  }
 },
 "nbformat": 4,
 "nbformat_minor": 2
}
