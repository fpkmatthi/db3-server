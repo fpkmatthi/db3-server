{
 "cells": [
  {
   "cell_type": "markdown",
   "metadata": {},
   "source": [
    "# Pandas Analytics - Example 1"
   ]
  },
  {
   "cell_type": "code",
   "execution_count": 1,
   "metadata": {
    "collapsed": true
   },
   "outputs": [],
   "source": [
    "import pandas as pd"
   ]
  },
  {
   "cell_type": "raw",
   "metadata": {},
   "source": [
    "A pandas dataframe can be created from a local text file, or from a URL or even from a connection to an SQL database\n",
    "e.g. df = pd.read_excel('http://archive.ics.uci.edu/ml/machine-learning-databases/00352/Online%20Retail.xlsx')\n",
    "Use relative paths!\n",
    "\n",
    "Import the file weatherhistory.csv. The seperator is ,\n",
    "\n",
    "The file weatherhistory.csv contains hourly observations of a weather station in Destelbergen \n",
    "for the period between 22 October 2017 and 26 October 2018\n",
    "\n",
    "Use .head(10) to print the first 10 records\n",
    "The standard value of .head() is 5"
   ]
  },
  {
   "cell_type": "code",
   "execution_count": null,
   "metadata": {},
   "outputs": [],
   "source": []
  },
  {
   "cell_type": "raw",
   "metadata": {},
   "source": [
    "Print the last 10 records. Use .tail()"
   ]
  },
  {
   "cell_type": "code",
   "execution_count": null,
   "metadata": {},
   "outputs": [],
   "source": []
  },
  {
   "cell_type": "raw",
   "metadata": {
    "collapsed": true
   },
   "source": [
    "Let's do some data exploration\n",
    ".columns --> the name of the colums\n",
    ".index --> start + stop + stepvalue of the index\n",
    ".count --> how many values per column\n",
    ".shape --> dimensions of the dataframe"
   ]
  },
  {
   "cell_type": "code",
   "execution_count": null,
   "metadata": {},
   "outputs": [],
   "source": []
  },
  {
   "cell_type": "raw",
   "metadata": {},
   "source": [
    "For our data analytics purposes we only need observationtime, temperature, windspeed and precipation1hr,\n",
    "so we can drop all other columns\n",
    "axis = 1 is necessary to indicate that we want to delete columns (use axis = 0 for row based deletion)\n",
    "If you only want to drop 1 column, you don't need the square brackets, e.g. obs.drop('id', axis=1)"
   ]
  },
  {
   "cell_type": "code",
   "execution_count": null,
   "metadata": {},
   "outputs": [],
   "source": []
  },
  {
   "cell_type": "markdown",
   "metadata": {},
   "source": [
    "FILTERING\n",
    "Find all lines with a temperature below -7 °C"
   ]
  },
  {
   "cell_type": "code",
   "execution_count": null,
   "metadata": {},
   "outputs": [],
   "source": []
  },
  {
   "cell_type": "raw",
   "metadata": {},
   "source": [
    "FILTERING\n",
    "You can also combine conditions (~ = NOT)"
   ]
  },
  {
   "cell_type": "code",
   "execution_count": null,
   "metadata": {},
   "outputs": [],
   "source": []
  },
  {
   "cell_type": "raw",
   "metadata": {},
   "source": [
    "FILTERING\n",
    "Find all lines where 'weather' is empty. \n",
    "Use .isnull()"
   ]
  },
  {
   "cell_type": "code",
   "execution_count": null,
   "metadata": {},
   "outputs": [],
   "source": []
  },
  {
   "cell_type": "raw",
   "metadata": {},
   "source": [
    "DATA CLEANSING\n",
    "Print the number of values before.\n",
    "Delete all records that possibly contain empty values. \n",
    "Use .dropna()\n",
    "Print the number of values after."
   ]
  },
  {
   "cell_type": "code",
   "execution_count": null,
   "metadata": {},
   "outputs": [],
   "source": []
  },
  {
   "cell_type": "raw",
   "metadata": {},
   "source": [
    "DATA MANIPULATION\n",
    "Delete the minutes and seconds because we won't need them anymore\n",
    "Use .str[lowerbound:upperbound]"
   ]
  },
  {
   "cell_type": "code",
   "execution_count": null,
   "metadata": {},
   "outputs": [],
   "source": []
  },
  {
   "cell_type": "raw",
   "metadata": {},
   "source": [
    "DATA EXPLORATION\n",
    "How many times each weathertype does appear?\n",
    "Use .groupby\n",
    "The groupby method is similar to SQL: only the not null values are counted\n",
    "The combination of column names and weather types for indexing is an example of a hierarchical index    "
   ]
  },
  {
   "cell_type": "code",
   "execution_count": null,
   "metadata": {},
   "outputs": [],
   "source": []
  },
  {
   "cell_type": "raw",
   "metadata": {},
   "source": [
    "We can also ask for statistical information about for example the temperature per weather class\n",
    "Use .describe()"
   ]
  },
  {
   "cell_type": "code",
   "execution_count": null,
   "metadata": {},
   "outputs": [],
   "source": []
  },
  {
   "cell_type": "raw",
   "metadata": {},
   "source": [
    "Up to this point we’ve been focused primarily on one-dimensional and twodimensional\n",
    "data, stored in Pandas Series and DataFrame objects, respectively. Often\n",
    "it is useful to go beyond this and store higher-dimensional data—that is, data indexed\n",
    "by more than one or two keys. A common pattern in practice is to make use of hierarchical\n",
    "indexing (also known as multi-indexing) to incorporate multiple index levels within a\n",
    "single index. In this way, higher-dimensional data can be compactly represented\n",
    "within the familiar one-dimensional Series and two-dimensional DataFrame objects.\n",
    "\n",
    "We use this to groupby on two criteria and create a pivot table:\n",
    "here we count for each combination of weathertype and temperature the number of observations\n",
    "\n",
    "unstack makes pivoting possible: it pivots a level of the (necessarily hierarchical) index labels, \n",
    "returning a DataFrame having a new level of column labels whose inner-most level consists of the pivoted index labels.\n",
    "See what happens without unstack\n",
    "\n",
    "Step 1: Give the number of values for each temperature and weather\n",
    "Step 2: Use unstack(). A nice visual explanation can be found on \n",
    "http://www.datasciencemadesimple.com/reshape-using-stack-unstack-function-pandas-python/\n",
    "Step 3: Replace all NaN by 0. Use .fillna()"
   ]
  },
  {
   "cell_type": "code",
   "execution_count": null,
   "metadata": {},
   "outputs": [],
   "source": []
  },
  {
   "cell_type": "raw",
   "metadata": {},
   "source": [
    "DATA MANIPULATION:\n",
    "Most machine learning algorithms (see further) prefer numeric values instead of strings. \n",
    "We map the weathertypes to numbers."
   ]
  },
  {
   "cell_type": "code",
   "execution_count": null,
   "metadata": {},
   "outputs": [],
   "source": []
  },
  {
   "cell_type": "raw",
   "metadata": {},
   "source": [
    "We can also easily ask for statistical information about the temperature by month"
   ]
  },
  {
   "cell_type": "code",
   "execution_count": null,
   "metadata": {},
   "outputs": [],
   "source": []
  },
  {
   "cell_type": "raw",
   "metadata": {},
   "source": [
    "Our data still contains some duplicate observation times"
   ]
  },
  {
   "cell_type": "code",
   "execution_count": null,
   "metadata": {},
   "outputs": [],
   "source": []
  },
  {
   "cell_type": "raw",
   "metadata": {},
   "source": [
    "Now we can group together all lines with the same date and hour\n",
    "We choose to keep the minimum value in each column per date and hour"
   ]
  },
  {
   "cell_type": "code",
   "execution_count": null,
   "metadata": {},
   "outputs": [],
   "source": []
  },
  {
   "cell_type": "raw",
   "metadata": {},
   "source": [
    "The resulting dataframe can be saved to a csv\n",
    "Use .to_csv()"
   ]
  },
  {
   "cell_type": "code",
   "execution_count": null,
   "metadata": {
    "collapsed": true
   },
   "outputs": [],
   "source": []
  }
 ],
 "metadata": {
  "kernelspec": {
   "display_name": "Python 3",
   "language": "python",
   "name": "python3"
  },
  "language_info": {
   "codemirror_mode": {
    "name": "ipython",
    "version": 3
   },
   "file_extension": ".py",
   "mimetype": "text/x-python",
   "name": "python",
   "nbconvert_exporter": "python",
   "pygments_lexer": "ipython3",
   "version": "3.7.4"
  }
 },
 "nbformat": 4,
 "nbformat_minor": 2
}
