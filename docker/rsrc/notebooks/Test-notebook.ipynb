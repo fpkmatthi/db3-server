{
 "cells": [
  {
   "cell_type": "code",
   "execution_count": 26,
   "metadata": {},
   "outputs": [
    {
     "name": "stdout",
     "output_type": "stream",
     "text": [
      "2\n",
      "1\n",
      "['kiwi', 'apple', 'pear', 'apple', 'banana', 'orange']\n",
      "['kiwi', 'apple', 'pear', 'apple', 'banana', 'orange', 'grapes']\n",
      "['apple', 'apple', 'banana', 'grapes', 'kiwi', 'orange', 'pear']\n",
      "['apple', 'apple', 'banana', 'grapes', 'kiwi', 'orange']\n",
      "['apple', 'apple', 'banana', 'grapes', 'kiwi']\n"
     ]
    }
   ],
   "source": [
    "fruits = ['orange', 'banana', 'apple', 'pear', 'apple', 'kiwi']\n",
    "\n",
    "print(fruits.count('apple'))\n",
    "\n",
    "print(fruits.index('banana'))\n",
    "\n",
    "fruits.reverse()\n",
    "print(fruits)\n",
    "\n",
    "fruits.append('grapes')\n",
    "print(fruits)\n",
    "\n",
    "fruits.sort()\n",
    "print(fruits)\n",
    "\n",
    "fruits.pop()\n",
    "print(fruits)\n",
    "\n",
    "fruits = fruits[:-1]\n",
    "print(fruits)\n"
   ]
  }
 ],
 "metadata": {
  "kernelspec": {
   "display_name": "Python 3",
   "language": "python",
   "name": "python3"
  },
  "language_info": {
   "codemirror_mode": {
    "name": "ipython",
    "version": 3
   },
   "file_extension": ".py",
   "mimetype": "text/x-python",
   "name": "python",
   "nbconvert_exporter": "python",
   "pygments_lexer": "ipython3",
   "version": "3.7.4"
  }
 },
 "nbformat": 4,
 "nbformat_minor": 2
}
